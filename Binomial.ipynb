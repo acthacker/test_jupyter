{
 "cells": [
  {
   "cell_type": "code",
   "execution_count": 1,
   "metadata": {},
   "outputs": [
    {
     "name": "stdout",
     "output_type": "stream",
     "text": [
      "0.05953499999999999\n"
     ]
    }
   ],
   "source": [
    "import math\n",
    "\n",
    "def binomial(k,n,p):\n",
    "    q = 1-p\n",
    "    n_fac =math.factorial(n)\n",
    "    nx_fac = math.factorial(n-k)\n",
    "    k_fac = math.factorial(k)\n",
    "    first_part = n_fac/(nx_fac*k_fac)\n",
    "    binom_prob = first_part*(p**k)*(q**(n-k))\n",
    "    return binom_prob\n",
    "\n",
    "print(binomial(4,6,.3))"
   ]
  },
  {
   "cell_type": "code",
   "execution_count": 2,
   "metadata": {},
   "outputs": [
    {
     "name": "stdout",
     "output_type": "stream",
     "text": [
      "0.05953499999999999\n"
     ]
    }
   ],
   "source": [
    "from scipy.stats import binom\n",
    "print(binom.pmf(4,6,0.3))"
   ]
  },
  {
   "cell_type": "code",
   "execution_count": 3,
   "metadata": {},
   "outputs": [],
   "source": [
    "from numpy import random as r\n",
    "\n",
    "def election_eval(voters, polls, iterations):\n",
    "    mathmatical = binom.pmf(voters/2,voters, polls)\n",
    "    ties = 0\n",
    "    for i in range(0,iterations):\n",
    "        votes = []\n",
    "        for i in range(0,voters):\n",
    "            if r.random() < polls:\n",
    "                vote = 0\n",
    "            else: \n",
    "                vote = 1\n",
    "            votes.append(vote)\n",
    "        if votes.count(0) == votes.count(1):\n",
    "            ties += 1\n",
    "    sim_perc = ties/iterations\n",
    "    return (mathmatical, sim_perc, mathmatical-sim_perc)"
   ]
  },
  {
   "cell_type": "code",
   "execution_count": 6,
   "metadata": {},
   "outputs": [
    {
     "name": "stdout",
     "output_type": "stream",
     "text": [
      "(0.03928510565771545, 0.0409, -0.0016148943422845466)\n"
     ]
    }
   ],
   "source": [
    "print(election_eval(412,.5,10000))"
   ]
  },
  {
   "cell_type": "code",
   "execution_count": 10,
   "metadata": {},
   "outputs": [
    {
     "name": "stdout",
     "output_type": "stream",
     "text": [
      "(0.03617719586123721, 0.0397, -0.0035228041387627904)\n"
     ]
    }
   ],
   "source": [
    "print(election_eval(412,.51,10000))"
   ]
  },
  {
   "cell_type": "code",
   "execution_count": 11,
   "metadata": {},
   "outputs": [
    {
     "name": "stdout",
     "output_type": "stream",
     "text": [
      "(0.004955391968582775, 0.0045, 0.00045539196858277505)\n"
     ]
    }
   ],
   "source": [
    "print(election_eval(412,.55,10000))"
   ]
  },
  {
   "cell_type": "code",
   "execution_count": 1,
   "metadata": {},
   "outputs": [
    {
     "ename": "ModuleNotFoundError",
     "evalue": "No module named 'nltk'",
     "output_type": "error",
     "traceback": [
      "\u001b[0;31m---------------------------------------------------------------------------\u001b[0m",
      "\u001b[0;31mModuleNotFoundError\u001b[0m                       Traceback (most recent call last)",
      "\u001b[0;32m<ipython-input-1-1d2184025e54>\u001b[0m in \u001b[0;36m<module>\u001b[0;34m\u001b[0m\n\u001b[0;32m----> 1\u001b[0;31m \u001b[0;32mimport\u001b[0m \u001b[0mnltk\u001b[0m\u001b[0;34m\u001b[0m\u001b[0m\n\u001b[0m",
      "\u001b[0;31mModuleNotFoundError\u001b[0m: No module named 'nltk'"
     ]
    }
   ],
   "source": []
  },
  {
   "cell_type": "code",
   "execution_count": 9,
   "metadata": {},
   "outputs": [
    {
     "name": "stdout",
     "output_type": "stream",
     "text": [
      "(8.751891635788423e-06, 0.0, 8.751891635788423e-06)\n"
     ]
    }
   ],
   "source": [
    "print(election_eval(412,.6,10000))"
   ]
  },
  {
   "cell_type": "code",
   "execution_count": 4,
   "metadata": {},
   "outputs": [
    {
     "name": "stdout",
     "output_type": "stream",
     "text": [
      "(0.010300216202730425, 0.0111, -0.0007997837972695751)\n"
     ]
    }
   ],
   "source": [
    "print(election_eval(6000,.5,10000))"
   ]
  }
 ],
 "metadata": {
  "kernelspec": {
   "display_name": "Python 3",
   "language": "python",
   "name": "python3"
  },
  "language_info": {
   "codemirror_mode": {
    "name": "ipython",
    "version": 3
   },
   "file_extension": ".py",
   "mimetype": "text/x-python",
   "name": "python",
   "nbconvert_exporter": "python",
   "pygments_lexer": "ipython3",
   "version": "3.6.6+"
  }
 },
 "nbformat": 4,
 "nbformat_minor": 2
}
